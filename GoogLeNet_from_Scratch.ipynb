{
  "nbformat": 4,
  "nbformat_minor": 0,
  "metadata": {
    "colab": {
      "name": "GoogLeNet from Scratch.ipynb",
      "provenance": [],
      "authorship_tag": "ABX9TyNlaubZf+pBHlyEiHUEgrPo",
      "include_colab_link": true
    },
    "kernelspec": {
      "name": "python3",
      "display_name": "Python 3"
    },
    "language_info": {
      "name": "python"
    }
  },
  "cells": [
    {
      "cell_type": "markdown",
      "metadata": {
        "id": "view-in-github",
        "colab_type": "text"
      },
      "source": [
        "<a href=\"https://colab.research.google.com/github/aju22/GoogleNet/blob/main/GoogLeNet_from_Scratch.ipynb\" target=\"_parent\"><img src=\"https://colab.research.google.com/assets/colab-badge.svg\" alt=\"Open In Colab\"/></a>"
      ]
    },
    {
      "cell_type": "code",
      "execution_count": 1,
      "metadata": {
        "id": "bJk7MG378KRb"
      },
      "outputs": [],
      "source": [
        "import tensorflow as tf\n",
        "import tensorflow.keras.layers as layers"
      ]
    },
    {
      "cell_type": "markdown",
      "source": [
        "# Model Architecture\n",
        "\n",
        "\n",
        "GoogLeNet is a type of convolutional neural network based on the Inception architecture. It utilises Inception modules, which allow the network to choose between multiple convolutional filter sizes in each block. An Inception network stacks these modules on top of each other, with occasional max-pooling layers with stride 2 to halve the resolution of the grid.\n",
        "\n",
        "![](https://www.gabormelli.com/RKB/images/thumb/5/5e/GoogLeNet_slide58.png/650px-GoogLeNet_slide58.png)"
      ],
      "metadata": {
        "id": "oNrIi3l63fWv"
      }
    },
    {
      "cell_type": "code",
      "source": [
        "class CNNBlock(layers.Layer):\n",
        "  def __init__(self, out_channels, **kwargs):\n",
        "    super().__init__()\n",
        "    self.relu = layers.ReLU()\n",
        "    self.conv = layers.Conv2D(out_channels, **kwargs)\n",
        "    self.bn = layers.BatchNormalization()\n",
        "\n",
        "  def call(self, x, training = False):\n",
        "    x = self.conv(x, training = training)\n",
        "    x = self.bn(x, training=training)\n",
        "    x = self.relu(x)\n",
        "\n",
        "    return x"
      ],
      "metadata": {
        "id": "9b0CD2zR-jLy"
      },
      "execution_count": 2,
      "outputs": []
    },
    {
      "cell_type": "markdown",
      "source": [
        "## Inception Module\n",
        "\n",
        "The inception module is different from previous architectures such as AlexNet, ZF-Net, where there is a fixed convolution size for each layer.\n",
        "\n",
        "\n",
        "In the Inception module 1×1, 3×3, 5×5 convolution and 3×3 max pooling performed in a parallel way at the input and the output of these are stacked together to generated final output. The idea behind that convolution filters of different sizes will handle objects at multiple scale better.\n",
        "\n",
        "![](https://miro.medium.com/max/751/1*AU4SaMgvVYFREakegt-R4A.png)"
      ],
      "metadata": {
        "id": "kQ1TTvYG3q2k"
      }
    },
    {
      "cell_type": "code",
      "source": [
        "class InceptionBlock(layers.Layer):\n",
        "  def __init__(self, out_1x1, red_3x3, out_3x3, red_5x5, out_5x5, out_1x1pool):\n",
        "    super().__init__()\n",
        "    \n",
        "    self.branch1 = CNNBlock(out_1x1, kernel_size=1, strides = 1, padding = 'same')\n",
        "\n",
        "    self.branch2 = tf.keras.Sequential(\n",
        "        [CNNBlock(red_3x3, kernel_size=1, strides = 1, padding = 'same'),\n",
        "         \n",
        "         CNNBlock(out_3x3, kernel_size=3, strides = 1, padding = 'same') \n",
        "         ])\n",
        "\n",
        "    self.branch3 = tf.keras.Sequential(\n",
        "        [CNNBlock(red_5x5, kernel_size=1),\n",
        "         \n",
        "         CNNBlock(out_5x5, kernel_size=5, strides = 1, padding = 'same') \n",
        "        ])\n",
        "\n",
        "    self.branch4 = tf.keras.Sequential(\n",
        "        [layers.MaxPooling2D(pool_size=(3, 3), strides=1, padding=\"same\"),\n",
        "         \n",
        "         CNNBlock(out_1x1pool, kernel_size=1, strides = 1, padding = 'same') \n",
        "         ])\n",
        "\n",
        "  def call(self, x):\n",
        "    #N x Filters x R x C    \n",
        "\n",
        "    #Axis = 1\n",
        "    #Concatenate all the filters\n",
        "\n",
        "    x = layers.concatenate([\n",
        "                            self.branch1(x),\n",
        "                            self.branch2(x),\n",
        "                            self.branch3(x),\n",
        "                            self.branch4(x)\n",
        "                            ])\n",
        "\n",
        "    return x"
      ],
      "metadata": {
        "id": "IopU6JSZBQk8"
      },
      "execution_count": 3,
      "outputs": []
    },
    {
      "cell_type": "code",
      "source": [
        "class GoogLeNet(tf.keras.Model):\n",
        "  def __init__(self, num_classes = 1000):\n",
        "    \n",
        "    super().__init__()\n",
        "\n",
        "    self.conv1 = CNNBlock(64, kernel_size = 7, strides = 2, padding ='same')\n",
        "    self.maxpool1 = layers.MaxPooling2D((3,3), strides = 2, padding='same')\n",
        "\n",
        "    self.convblock1 = tf.keras.Sequential([\n",
        "                                           self.conv1,\n",
        "                                           self.maxpool1\n",
        "                                          ])\n",
        "\n",
        "\n",
        "\n",
        "    self.conv2 = CNNBlock(192, kernel_size = 3, strides = 1, padding ='same')\n",
        "    self.maxpool2 = layers.MaxPooling2D((3,3), strides = 2, padding='same')\n",
        "\n",
        "    self.convblock2 = tf.keras.Sequential([\n",
        "                                           self.conv2,\n",
        "                                           self.maxpool2\n",
        "                                          ])\n",
        "    \n",
        "\n",
        "    self.inception3a = InceptionBlock(64, 96, 128, 16, 32, 32)\n",
        "    self.inception3b = InceptionBlock(128, 128, 192, 32, 96, 64)\n",
        "    self.maxpool3 = layers.MaxPooling2D((3,3), strides = 2, padding='same')\n",
        "\n",
        "    self.inception3 = tf.keras.Sequential([\n",
        "                                           self.inception3a,\n",
        "                                           self.inception3b,\n",
        "                                           self.maxpool3\n",
        "                                          ])\n",
        "\n",
        "\n",
        "    self.inception4a = InceptionBlock(192, 96, 208, 16, 48, 64)\n",
        "    self.inception4b = InceptionBlock(160, 112, 224, 24, 64, 64)\n",
        "    self.inception4c = InceptionBlock(128, 128, 256, 24, 64, 64)\n",
        "    self.inception4d = InceptionBlock(112, 144, 288, 32, 64, 64)\n",
        "    self.inception4e = InceptionBlock(256, 160, 320, 32, 128, 128)\n",
        "    self.maxpool4 = layers.MaxPooling2D((3,3), strides = 2, padding='same')\n",
        "\n",
        "    self.inception4 = tf.keras.Sequential([\n",
        "                                           self.inception4a,\n",
        "                                           self.inception4b,\n",
        "                                           self.inception4c,\n",
        "                                           self.inception4d,\n",
        "                                           self.inception4e,\n",
        "                                           self.maxpool4,    \n",
        "                                           ])\n",
        "    \n",
        "\n",
        "    self.inception5a = InceptionBlock(256, 160, 320, 32, 128, 128)\n",
        "    self.inception5b = InceptionBlock(384, 192, 384, 48, 128, 128)\n",
        "    self.avgpool = layers.AveragePooling2D(pool_size=(7, 7), strides=1, padding=\"same\")\n",
        "\n",
        "    self.inception5 = tf.keras.Sequential([\n",
        "                                           self.inception5a,\n",
        "                                           self.inception5b,\n",
        "                                           self.avgpool,    \n",
        "                                           ])\n",
        "    \n",
        "    #self.reshape = layers.Reshape()\n",
        "\n",
        "    self.dropout = layers.Dropout(0.4)\n",
        "    self.fc1 = layers.Dense(num_classes)\n",
        "\n",
        "  def call(self, x):\n",
        "\n",
        "    x = self.convblock1(x)\n",
        "    x = self.convblock2(x)\n",
        "    \n",
        "    x = self.inception3(x)\n",
        "    x = self.inception4(x)\n",
        "    x = self.inception5(x)\n",
        "\n",
        "    x = tf.reshape(x, (x.shape[0], -1))\n",
        "\n",
        "    x = self.dropout(x)\n",
        "    x = self.fc1(x)\n",
        "\n",
        "    return x"
      ],
      "metadata": {
        "id": "J8yiiFdkE7eU"
      },
      "execution_count": 4,
      "outputs": []
    },
    {
      "cell_type": "code",
      "source": [
        "x = tf.random.normal((3, 3, 224, 224))"
      ],
      "metadata": {
        "id": "SZF2foRbMAhH"
      },
      "execution_count": 5,
      "outputs": []
    },
    {
      "cell_type": "code",
      "source": [
        "model = GoogLeNet()"
      ],
      "metadata": {
        "id": "PUaUaOHdNNdt"
      },
      "execution_count": 6,
      "outputs": []
    },
    {
      "cell_type": "code",
      "source": [
        "print(model(x).shape)"
      ],
      "metadata": {
        "colab": {
          "base_uri": "https://localhost:8080/"
        },
        "id": "qj8j6m8PNXaE",
        "outputId": "1f5b7cf1-a5d7-459c-ff90-b6f0485b0661"
      },
      "execution_count": 7,
      "outputs": [
        {
          "output_type": "stream",
          "name": "stdout",
          "text": [
            "(3, 1000)\n"
          ]
        }
      ]
    },
    {
      "cell_type": "code",
      "source": [
        ""
      ],
      "metadata": {
        "id": "_DRfEUsD2oJx"
      },
      "execution_count": 7,
      "outputs": []
    }
  ]
}